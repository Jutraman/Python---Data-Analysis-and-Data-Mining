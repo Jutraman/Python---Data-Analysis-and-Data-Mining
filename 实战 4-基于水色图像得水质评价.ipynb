{
 "cells": [
  {
   "cell_type": "markdown",
   "source": [
    "# Chapter 9 基于水色图像得水质评价"
   ],
   "metadata": {
    "collapsed": false
   }
  },
  {
   "cell_type": "code",
   "execution_count": 12,
   "metadata": {
    "collapsed": true
   },
   "outputs": [],
   "source": [
    "import numpy as np\n",
    "import os,re\n",
    "from PIL import Image\n",
    "from sklearn.tree import DecisionTreeClassifier\n",
    "from sklearn.model_selection import train_test_split\n",
    "from sklearn.metrics import confusion_matrix\n",
    "from sklearn.metrics import accuracy_score"
   ]
  },
  {
   "cell_type": "code",
   "execution_count": 5,
   "outputs": [],
   "source": [
    "# 自定义获取图片名称函数\n",
    "def getImgNames(path):\n",
    "    '''\n",
    "    获取指定路径中所有图片的名称\n",
    "    :param path: 指定的路径\n",
    "    :return: 名称列表\n",
    "    '''\n",
    "    filenames = os.listdir(path)\n",
    "    imgNames = []\n",
    "    for i in filenames:\n",
    "        if re.findall('^\\d_\\d+\\.jpg$', i) != []:\n",
    "            imgNames.append(i)\n",
    "    return imgNames\n",
    "\n",
    "# 自定义获取三阶颜色矩函数\n",
    "def Var(data=None):\n",
    "    '''\n",
    "    获取给定像素值矩阵的三阶颜色矩\n",
    "    :param data: 给定的像素值矩阵\n",
    "    :return: 对应的三阶颜色矩\n",
    "    '''\n",
    "    x = np.mean((data-data.mean())**3)\n",
    "    return np.sign(x)*abs(x)**(1/3)"
   ],
   "metadata": {
    "collapsed": false,
    "pycharm": {
     "name": "#%%\n"
    }
   }
  },
  {
   "cell_type": "code",
   "execution_count": 6,
   "outputs": [],
   "source": [
    "# 图像切割及特征提取\n",
    "path = '../data/chapter9/'  # 图片所在路径\n",
    "# 批量处理图片数据\n",
    "imgNames = getImgNames(path=path)  # 获取所有图片名称\n",
    "n = len(imgNames)        # 图片张数\n",
    "data = np.zeros([n, 9])  # 用来装样本自变量\n",
    "labels = np.zeros([n])   # 用来放样本标签\n",
    "\n",
    "for i in range(n):\n",
    "    img = Image.open(path+imgNames[i])  # 读取图片\n",
    "    M,N = img.size  # 图片像素的尺寸\n",
    "    img = img.crop((M/2-50,N/2-50,M/2+50,N/2+50))    # 图片切割\n",
    "    r,g,b = img.split()     # 将图片分割成三通道\n",
    "    rd = np.asarray(r)/255  # 转化成数组数据\n",
    "    gd = np.asarray(g)/255\n",
    "    bd = np.asarray(b)/255\n",
    "\n",
    "    data[i,0] = rd.mean()  # 一阶颜色矩\n",
    "    data[i,1] = gd.mean()\n",
    "    data[i,2] = bd.mean()\n",
    "\n",
    "    data[i,3] = rd.std()   # 二阶颜色矩\n",
    "    data[i,4] = gd.std()\n",
    "    data[i,5] = bd.std()\n",
    "\n",
    "    data[i,6] = Var(rd)    # 三阶颜色矩\n",
    "    data[i,7] = Var(gd)\n",
    "    data[i,8] = Var(bd)\n",
    "\n",
    "    labels[i] = imgNames[i][0]  # 样本标签"
   ],
   "metadata": {
    "collapsed": false,
    "pycharm": {
     "name": "#%%\n"
    }
   }
  },
  {
   "cell_type": "code",
   "execution_count": 9,
   "outputs": [],
   "source": [
    "# 数据拆分,训练集、测试集\n",
    "data_tr,data_te,label_tr,label_te = train_test_split(data,labels,test_size=0.2,random_state=10)"
   ],
   "metadata": {
    "collapsed": false,
    "pycharm": {
     "name": "#%%\n"
    }
   }
  },
  {
   "cell_type": "code",
   "execution_count": 10,
   "outputs": [],
   "source": [
    "# 模型训练\n",
    "model = DecisionTreeClassifier(random_state=5).fit(data_tr, label_tr)"
   ],
   "metadata": {
    "collapsed": false,
    "pycharm": {
     "name": "#%%\n"
    }
   }
  },
  {
   "cell_type": "code",
   "execution_count": 11,
   "outputs": [],
   "source": [
    "# 水质评价\n",
    "pre_te = model.predict(data_te)"
   ],
   "metadata": {
    "collapsed": false,
    "pycharm": {
     "name": "#%%\n"
    }
   }
  },
  {
   "cell_type": "code",
   "execution_count": 13,
   "outputs": [
    {
     "name": "stdout",
     "output_type": "stream",
     "text": [
      "[[11  1  1  0  0]\n",
      " [ 0  9  0  0  0]\n",
      " [ 0  0 12  0  0]\n",
      " [ 0  1  0  3  1]\n",
      " [ 0  0  0  0  2]]\n"
     ]
    }
   ],
   "source": [
    "# 混淆矩阵\n",
    "cm_te = confusion_matrix(label_te,pre_te)\n",
    "print(cm_te)"
   ],
   "metadata": {
    "collapsed": false,
    "pycharm": {
     "name": "#%%\n"
    }
   }
  },
  {
   "cell_type": "code",
   "execution_count": 14,
   "outputs": [
    {
     "name": "stdout",
     "output_type": "stream",
     "text": [
      "0.9024390243902439\n"
     ]
    }
   ],
   "source": [
    "# 准确率\n",
    "print(accuracy_score(label_te,pre_te))"
   ],
   "metadata": {
    "collapsed": false,
    "pycharm": {
     "name": "#%%\n"
    }
   }
  }
 ],
 "metadata": {
  "kernelspec": {
   "display_name": "Python 3",
   "language": "python",
   "name": "python3"
  },
  "language_info": {
   "codemirror_mode": {
    "name": "ipython",
    "version": 2
   },
   "file_extension": ".py",
   "mimetype": "text/x-python",
   "name": "python",
   "nbconvert_exporter": "python",
   "pygments_lexer": "ipython2",
   "version": "2.7.6"
  }
 },
 "nbformat": 4,
 "nbformat_minor": 0
}