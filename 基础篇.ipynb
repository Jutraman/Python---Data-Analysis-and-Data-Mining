{
 "cells": [
  {
   "cell_type": "markdown",
   "metadata": {
    "collapsed": true,
    "pycharm": {
     "name": "#%% md\n"
    }
   },
   "source": [
    "# Chapter 1 数据挖掘基础"
   ]
  },
  {
   "cell_type": "markdown",
   "source": [
    "## 1.1 基本任务\n",
    "\n",
    "- 分类与预测\n",
    "- 聚类分析\n",
    "- 关联规则\n",
    "- 时序模式\n",
    "- 偏差检测\n",
    "- 智能推荐\n",
    "P.S. 帮助企业提取数据中蕴含的商业价值，提高企业的竞争力"
   ],
   "metadata": {
    "collapsed": false,
    "pycharm": {
     "name": "#%% md\n"
    }
   }
  },
  {
   "cell_type": "markdown",
   "source": [
    "## 1.2 建模过程\n",
    "\n",
    "- 定义挖掘目标\n",
    "- 数据取样\n",
    "- 数据探索\n",
    "- 数据预处理\n",
    "- 挖掘建模\n",
    "- 模型评价"
   ],
   "metadata": {
    "collapsed": false,
    "pycharm": {
     "name": "#%% md\n"
    }
   }
  },
  {
   "cell_type": "markdown",
   "source": [
    "## 1.3 常用建模工具\n",
    "\n",
    "- Python\n",
    "- SAS Enterprise Miner\n",
    "- IBM SPSS Modeler\n",
    "- SQL Server\n",
    "- Weka\n",
    "- KNIME\n",
    "- RapidMiner\n",
    "- TipDM"
   ],
   "metadata": {
    "collapsed": false
   }
  },
  {
   "cell_type": "markdown",
   "source": [
    "# Chapter 2 Python数据分析简介"
   ],
   "metadata": {
    "collapsed": false
   }
  },
  {
   "cell_type": "markdown",
   "source": [
    "## 配置\n",
    "- Python 3.9.9\n",
    "- numpy 1.19.5\n",
    "- pandas 1.4.0\n",
    "- scipy 1.7.3\n",
    "- statsmodels 0.13.1\n",
    "- scikit-learn 1.0.2\n",
    "- matplotlib 3.5.1\n",
    "- keras 2.7.0\n",
    "- tensorflow-deps 2.7.0\n",
    "- tensorflow-macos 2.7.0\n",
    "- tensorflow-metal 0.3.0"
   ],
   "metadata": {
    "collapsed": false
   }
  },
  {
   "cell_type": "markdown",
   "source": [
    "# Chapter 3 数据探索"
   ],
   "metadata": {
    "collapsed": false
   }
  },
  {
   "cell_type": "markdown",
   "source": [
    "## 3.1 数据质量分析"
   ],
   "metadata": {
    "collapsed": false
   }
  },
  {
   "cell_type": "markdown",
   "source": [
    "### 3.1.1 缺失值分析\n",
    "\n",
    "#### 产生原因\n",
    "- 无法获取或者难以获取\n",
    "- 遗漏\n",
    "- 不存在\n",
    "\n",
    "#### 方法\n",
    "- 统计数量、缺失率等\n",
    "- 删除或者插补"
   ],
   "metadata": {
    "collapsed": false
   }
  },
  {
   "cell_type": "markdown",
   "source": [
    "### 3.1.2 异常值分析\n",
    "\n",
    "#### 原因\n",
    "- 错误数据\n",
    "- 不合理数据\n",
    "\n",
    "#### 方法\n",
    "- 简单统计量分析\n",
    "- 3 原则\n",
    "- 箱型图分析"
   ],
   "metadata": {
    "collapsed": false
   }
  },
  {
   "cell_type": "markdown",
   "source": [
    "### 3.1.3一致性分析"
   ],
   "metadata": {
    "collapsed": false
   }
  },
  {
   "cell_type": "markdown",
   "source": [
    "## 3.2 数据特征分析\n",
    "- 分布分析\n",
    "- 对比分析\n",
    "- 统计量分析\n",
    "- 周期性分析\n",
    "- 贡献度分析（帕累托分析）\n",
    "- 相关性分析"
   ],
   "metadata": {
    "collapsed": false
   }
  },
  {
   "cell_type": "markdown",
   "source": [
    "## 导入需要的包"
   ],
   "metadata": {
    "collapsed": false
   }
  },
  {
   "cell_type": "code",
   "execution_count": 2,
   "outputs": [],
   "source": [
    "import sys\n",
    "\n",
    "import matplotlib.pyplot as plt\n",
    "import pandas as pd\n",
    "import scipy as sc\n",
    "import numpy as np\n",
    "import matplotlib as mlp\n",
    "import sklearn as sk\n",
    "import statsmodels as sm\n",
    "import tensorflow as tf"
   ],
   "metadata": {
    "collapsed": false,
    "pycharm": {
     "name": "#%%\n"
    }
   }
  },
  {
   "cell_type": "markdown",
   "source": [
    "# Chapter 4 数据预处理"
   ],
   "metadata": {
    "collapsed": false
   }
  },
  {
   "cell_type": "markdown",
   "source": [
    "## 4.1 数据清洗\n",
    "\n",
    "数据清洗主要是删除原始数据集中的无关数据、重复数据，平滑噪声数据，筛选掉与挖掘主题无关的数据，处理缺失值、异常值等。"
   ],
   "metadata": {
    "collapsed": false
   }
  },
  {
   "cell_type": "markdown",
   "source": [
    "### 4.1.1 缺失值处理\n",
    "\n",
    "#### 删除\n",
    "#### 插补"
   ],
   "metadata": {
    "collapsed": false,
    "pycharm": {
     "name": "#%% md\n"
    }
   }
  },
  {
   "cell_type": "markdown",
   "source": [
    "- 拉格朗日插值法"
   ],
   "metadata": {
    "collapsed": false
   }
  },
  {
   "cell_type": "code",
   "execution_count": null,
   "outputs": [],
   "source": [
    "inputfile=''\n",
    "outputfile=''\n",
    "data=pd.read_excel('inputfile')\n",
    "\n",
    "def ployinterp_column(s,n,k=5):\n",
    "    y=s[list(range(n-k,n))+list(range(n+1,n+1+k))]\n",
    "    y=y[y.notnull()]\n",
    "    return sc.interpolate.lagrange(y.index,list(y))(n)\n",
    "\n",
    "for i in data.columns:\n",
    "    for j in range(len(data)):\n",
    "        if (data[i].isnull())[j]:\n",
    "            data[i][j]=ployinterp_column(data[i],j)\n",
    "data.to_excel(outputfile)"
   ],
   "metadata": {
    "collapsed": false,
    "pycharm": {
     "name": "#%%\n"
    }
   }
  },
  {
   "cell_type": "markdown",
   "source": [
    "- 牛顿插值法"
   ],
   "metadata": {
    "collapsed": false
   }
  },
  {
   "cell_type": "markdown",
   "source": [
    "### 4.1.2 异常值处理\n",
    "- 删除含有异常值的记录\n",
    "- 视为缺失值\n",
    "- 平均值修正\n",
    "- 不处理"
   ],
   "metadata": {
    "collapsed": false
   }
  },
  {
   "cell_type": "markdown",
   "source": [
    "## 4.2 数据集成"
   ],
   "metadata": {
    "collapsed": false
   }
  },
  {
   "cell_type": "markdown",
   "source": [
    "### 4.2.1 实体识别\n",
    "- 同名异义\n",
    "- 异名同义\n",
    "- 单位不统一"
   ],
   "metadata": {
    "collapsed": false
   }
  },
  {
   "cell_type": "markdown",
   "source": [
    "### 4.2.2 冗余属性识别\n",
    "- 同一属性多次出现\n",
    "- 同一属性命名不一致导致重复"
   ],
   "metadata": {
    "collapsed": false
   }
  },
  {
   "cell_type": "markdown",
   "source": [
    "### 4.2.3 数据变换\n",
    "### 4.2.4 简单函数变换\n",
    "### 4.2.5 规范化\n",
    "- min-max norm\n",
    "- 0-1 norm\n",
    "- 小数规范化"
   ],
   "metadata": {
    "collapsed": false
   }
  },
  {
   "cell_type": "markdown",
   "source": [
    "### 4.2.6 连续属性离散化\n",
    "- 等宽\n",
    "- 等频\n",
    "- 聚类"
   ],
   "metadata": {
    "collapsed": false
   }
  },
  {
   "cell_type": "code",
   "execution_count": null,
   "outputs": [],
   "source": [
    "data=pd.read_excel(inputfile)\n",
    "\n",
    "k=4\n",
    "d1=pd.cut(data,k,labels=range(k))\n",
    "\n",
    "w=[1.0*i/k for i in range(k+1)]\n",
    "w=data.describe(percentiles=w)[4:4+k+1]\n",
    "w[0]=w[0]*(1-1e-10)\n",
    "d2=pd.cut(data,w,labels=range(k))\n",
    "\n",
    "kmodel=sk.cluster.KMeans(n_clusters=k,n_init=4)\n",
    "kmodel.fit(np.array(data).reshape((len(data),1)))\n",
    "c=pd.DataFrame(kmodel.cluster_centers_)sort_values(0)\n",
    "w=c.rolling(2).mean()\n",
    "w=w.dropna(d2)\n",
    "w=[0]+list(w[0])+[data.max()]\n",
    "d3=pd.cut(data,w,labels=range(k))\n",
    "def cluster_plot(d,k):\n",
    "    plt.rcParams['font.sans-serif']=['SimHei']\n",
    "    plt.rcParams['axes.unicode_minus']=False\n",
    "    plt.figure(figsize=(8,3))\n",
    "    for j in range(0,k):\n",
    "        plt.plot(data[d==j],[j for i in d[d==j]],'o')\n",
    "\n",
    "    plt.ylim(-0.5,k-0.5)\n",
    "    return plt\n",
    "\n",
    "cluster_plot(d1,k).show()\n",
    "cluster_plot(d2,k).show()\n",
    "cluster_plot(d3,k).show()"
   ],
   "metadata": {
    "collapsed": false,
    "pycharm": {
     "name": "#%%\n",
     "is_executing": true
    }
   }
  },
  {
   "cell_type": "markdown",
   "source": [
    "### 4.2.7 属性构造\n",
    "### 4.2.8 小波变换"
   ],
   "metadata": {
    "collapsed": false
   }
  },
  {
   "cell_type": "markdown",
   "source": [
    "## 4.3 数据归约\n",
    "### 4.3.1 属性归约\n",
    "- 合并属性\n",
    "- 逐步向前选择\n",
    "- 逐步向后删除\n",
    "- 决策树归纳\n",
    "- 主成分分析\n",
    "### 4.3.2 数值归约\n",
    "- 直方图\n",
    "- 聚类\n",
    "- 抽样\n",
    "- 参数回归"
   ],
   "metadata": {
    "collapsed": false
   }
  },
  {
   "cell_type": "markdown",
   "source": [
    "# Chapter 5 挖掘建模\n",
    "## 5.1 分类与预测\n",
    "- 回归分析\n",
    "- 决策树\n",
    "- 人工神经网络\n",
    "- 贝叶斯网络\n",
    "- 支持向量机\n",
    "\n",
    "## 5.2 聚类分析\n",
    "- K Means\n",
    "- K Medoids\n",
    "- Clarans\n",
    "- Birch\n",
    "- CURE\n",
    "- Optics\n",
    "- STING\n",
    "- CLOUE\n",
    "- WAVE Cluster\n",
    "\n",
    "## 5.3 关联规则\n",
    "- Apriori\n",
    "- FP-Tree\n",
    "- Eclat\n",
    "- Gray\n",
    "\n",
    "## 5.4 时序模式\n",
    "- AR\n",
    "- MA\n",
    "- ARMA\n",
    "- ARIMA\n",
    "- ARCH\n",
    "- GARCH\n",
    "- LSTM\n",
    "\n",
    "## 5.5 离群点检测"
   ],
   "metadata": {
    "collapsed": false,
    "pycharm": {
     "name": "#%% md\n"
    }
   }
  }
 ],
 "metadata": {
  "kernelspec": {
   "display_name": "Python 3",
   "language": "python",
   "name": "python3"
  },
  "language_info": {
   "codemirror_mode": {
    "name": "ipython",
    "version": 2
   },
   "file_extension": ".py",
   "mimetype": "text/x-python",
   "name": "python",
   "nbconvert_exporter": "python",
   "pygments_lexer": "ipython2",
   "version": "2.7.6"
  }
 },
 "nbformat": 4,
 "nbformat_minor": 0
}