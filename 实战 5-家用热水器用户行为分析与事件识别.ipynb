{
 "cells": [
  {
   "cell_type": "markdown",
   "source": [
    "# Chapter 10 家用热水器用户行为分析与事件识别"
   ],
   "metadata": {
    "collapsed": false
   }
  },
  {
   "cell_type": "code",
   "execution_count": 26,
   "metadata": {
    "collapsed": true
   },
   "outputs": [],
   "source": [
    "import pandas as pd\n",
    "import numpy as np\n",
    "import matplotlib.pyplot as plt\n",
    "from sklearn.preprocessing import StandardScaler\n",
    "from sklearn.neural_network import MLPClassifier\n",
    "import joblib\n",
    "from sklearn.metrics import classification_report\n",
    "from sklearn.metrics import roc_curve"
   ]
  },
  {
   "cell_type": "code",
   "execution_count": 4,
   "outputs": [
    {
     "data": {
      "text/plain": "     热水器编号            发生时间 开关机状态 加热中 保温中 有无水流  实际温度 热水量  水流量 节能模式 加热剩余时间  \\\n0  R_00001  20141019063917     关   关   关    无  30°C  0%    0    关    0分钟   \n1  R_00001  20141019070154     关   关   关    无  30°C  0%    0    关    0分钟   \n2  R_00001  20141019070156     关   关   关    无  30°C  0%    8    关    0分钟   \n3  R_00001  20141019071230     关   关   关    无  30°C  0%    0    关    0分钟   \n4  R_00001  20141019071236     关   关   关    无  29°C  0%    0    关    0分钟   \n\n  当前设置温度  \n0   50°C  \n1   50°C  \n2   50°C  \n3   50°C  \n4   50°C  ",
      "text/html": "<div>\n<style scoped>\n    .dataframe tbody tr th:only-of-type {\n        vertical-align: middle;\n    }\n\n    .dataframe tbody tr th {\n        vertical-align: top;\n    }\n\n    .dataframe thead th {\n        text-align: right;\n    }\n</style>\n<table border=\"1\" class=\"dataframe\">\n  <thead>\n    <tr style=\"text-align: right;\">\n      <th></th>\n      <th>热水器编号</th>\n      <th>发生时间</th>\n      <th>开关机状态</th>\n      <th>加热中</th>\n      <th>保温中</th>\n      <th>有无水流</th>\n      <th>实际温度</th>\n      <th>热水量</th>\n      <th>水流量</th>\n      <th>节能模式</th>\n      <th>加热剩余时间</th>\n      <th>当前设置温度</th>\n    </tr>\n  </thead>\n  <tbody>\n    <tr>\n      <th>0</th>\n      <td>R_00001</td>\n      <td>20141019063917</td>\n      <td>关</td>\n      <td>关</td>\n      <td>关</td>\n      <td>无</td>\n      <td>30°C</td>\n      <td>0%</td>\n      <td>0</td>\n      <td>关</td>\n      <td>0分钟</td>\n      <td>50°C</td>\n    </tr>\n    <tr>\n      <th>1</th>\n      <td>R_00001</td>\n      <td>20141019070154</td>\n      <td>关</td>\n      <td>关</td>\n      <td>关</td>\n      <td>无</td>\n      <td>30°C</td>\n      <td>0%</td>\n      <td>0</td>\n      <td>关</td>\n      <td>0分钟</td>\n      <td>50°C</td>\n    </tr>\n    <tr>\n      <th>2</th>\n      <td>R_00001</td>\n      <td>20141019070156</td>\n      <td>关</td>\n      <td>关</td>\n      <td>关</td>\n      <td>无</td>\n      <td>30°C</td>\n      <td>0%</td>\n      <td>8</td>\n      <td>关</td>\n      <td>0分钟</td>\n      <td>50°C</td>\n    </tr>\n    <tr>\n      <th>3</th>\n      <td>R_00001</td>\n      <td>20141019071230</td>\n      <td>关</td>\n      <td>关</td>\n      <td>关</td>\n      <td>无</td>\n      <td>30°C</td>\n      <td>0%</td>\n      <td>0</td>\n      <td>关</td>\n      <td>0分钟</td>\n      <td>50°C</td>\n    </tr>\n    <tr>\n      <th>4</th>\n      <td>R_00001</td>\n      <td>20141019071236</td>\n      <td>关</td>\n      <td>关</td>\n      <td>关</td>\n      <td>无</td>\n      <td>29°C</td>\n      <td>0%</td>\n      <td>0</td>\n      <td>关</td>\n      <td>0分钟</td>\n      <td>50°C</td>\n    </tr>\n  </tbody>\n</table>\n</div>"
     },
     "execution_count": 4,
     "metadata": {},
     "output_type": "execute_result"
    }
   ],
   "source": [
    "inputfile = '../data/chapter10_original_data.xls'  # 输入的数据文件\n",
    "data = pd.read_excel(inputfile)  # 读取数据\n",
    "data.head()"
   ],
   "metadata": {
    "collapsed": false,
    "pycharm": {
     "name": "#%%\n"
    }
   }
  },
  {
   "cell_type": "code",
   "execution_count": 6,
   "outputs": [
    {
     "name": "stderr",
     "output_type": "stream",
     "text": [
      "findfont: Font family ['sans-serif'] not found. Falling back to DejaVu Sans.\n",
      "findfont: Generic family 'sans-serif' not found because none of the following families were found: SimHei\n",
      "/opt/homebrew/Caskroom/miniforge/base/lib/python3.9/site-packages/IPython/core/pylabtools.py:151: UserWarning: Glyph 19981 (\\N{CJK UNIFIED IDEOGRAPH-4E0D}) missing from current font.\n",
      "  fig.canvas.print_figure(bytes_io, **kw)\n",
      "/opt/homebrew/Caskroom/miniforge/base/lib/python3.9/site-packages/IPython/core/pylabtools.py:151: UserWarning: Glyph 21516 (\\N{CJK UNIFIED IDEOGRAPH-540C}) missing from current font.\n",
      "  fig.canvas.print_figure(bytes_io, **kw)\n",
      "/opt/homebrew/Caskroom/miniforge/base/lib/python3.9/site-packages/IPython/core/pylabtools.py:151: UserWarning: Glyph 27700 (\\N{CJK UNIFIED IDEOGRAPH-6C34}) missing from current font.\n",
      "  fig.canvas.print_figure(bytes_io, **kw)\n",
      "/opt/homebrew/Caskroom/miniforge/base/lib/python3.9/site-packages/IPython/core/pylabtools.py:151: UserWarning: Glyph 27969 (\\N{CJK UNIFIED IDEOGRAPH-6D41}) missing from current font.\n",
      "  fig.canvas.print_figure(bytes_io, **kw)\n",
      "/opt/homebrew/Caskroom/miniforge/base/lib/python3.9/site-packages/IPython/core/pylabtools.py:151: UserWarning: Glyph 29366 (\\N{CJK UNIFIED IDEOGRAPH-72B6}) missing from current font.\n",
      "  fig.canvas.print_figure(bytes_io, **kw)\n",
      "/opt/homebrew/Caskroom/miniforge/base/lib/python3.9/site-packages/IPython/core/pylabtools.py:151: UserWarning: Glyph 24577 (\\N{CJK UNIFIED IDEOGRAPH-6001}) missing from current font.\n",
      "  fig.canvas.print_figure(bytes_io, **kw)\n",
      "/opt/homebrew/Caskroom/miniforge/base/lib/python3.9/site-packages/IPython/core/pylabtools.py:151: UserWarning: Glyph 35760 (\\N{CJK UNIFIED IDEOGRAPH-8BB0}) missing from current font.\n",
      "  fig.canvas.print_figure(bytes_io, **kw)\n",
      "/opt/homebrew/Caskroom/miniforge/base/lib/python3.9/site-packages/IPython/core/pylabtools.py:151: UserWarning: Glyph 24405 (\\N{CJK UNIFIED IDEOGRAPH-5F55}) missing from current font.\n",
      "  fig.canvas.print_figure(bytes_io, **kw)\n",
      "/opt/homebrew/Caskroom/miniforge/base/lib/python3.9/site-packages/IPython/core/pylabtools.py:151: UserWarning: Glyph 25968 (\\N{CJK UNIFIED IDEOGRAPH-6570}) missing from current font.\n",
      "  fig.canvas.print_figure(bytes_io, **kw)\n",
      "findfont: Font family ['sans-serif'] not found. Falling back to DejaVu Sans.\n",
      "findfont: Generic family 'sans-serif' not found because none of the following families were found: SimHei\n",
      "/opt/homebrew/Caskroom/miniforge/base/lib/python3.9/site-packages/IPython/core/pylabtools.py:151: UserWarning: Glyph 26080 (\\N{CJK UNIFIED IDEOGRAPH-65E0}) missing from current font.\n",
      "  fig.canvas.print_figure(bytes_io, **kw)\n",
      "/opt/homebrew/Caskroom/miniforge/base/lib/python3.9/site-packages/IPython/core/pylabtools.py:151: UserWarning: Glyph 26377 (\\N{CJK UNIFIED IDEOGRAPH-6709}) missing from current font.\n",
      "  fig.canvas.print_figure(bytes_io, **kw)\n"
     ]
    },
    {
     "data": {
      "text/plain": "<Figure size 432x360 with 1 Axes>",
      "image/png": "[encoded data removed]"
     },
     "metadata": {
      "needs_background": "light"
     },
     "output_type": "display_data"
    }
   ],
   "source": [
    "# 查看有无水流的分布\n",
    "# 数据提取\n",
    "lv_non = pd.value_counts(data['有无水流'])['无']\n",
    "lv_move = pd.value_counts(data['有无水流'])['有']\n",
    "\n",
    "# 绘制条形图\n",
    "fig = plt.figure(figsize = (6 ,5))  # 设置画布大小\n",
    "plt.rcParams['font.sans-serif'] = 'SimHei'  # 设置中文显示\n",
    "plt.rcParams['axes.unicode_minus'] = False\n",
    "plt.bar(x=range(2), height=[lv_non,lv_move], width=0.4, alpha=0.8,\n",
    "        color='skyblue')\n",
    "plt.xticks([index for index in range(2)], ['无','有'])\n",
    "plt.xlabel('水流状态')\n",
    "plt.ylabel('记录数')\n",
    "plt.title('不同水流状态记录数')\n",
    "plt.show()\n",
    "plt.close()"
   ],
   "metadata": {
    "collapsed": false,
    "pycharm": {
     "name": "#%%\n"
    }
   }
  },
  {
   "cell_type": "code",
   "execution_count": 7,
   "outputs": [
    {
     "name": "stderr",
     "output_type": "stream",
     "text": [
      "/opt/homebrew/Caskroom/miniforge/base/lib/python3.9/site-packages/IPython/core/pylabtools.py:151: UserWarning: Glyph 27700 (\\N{CJK UNIFIED IDEOGRAPH-6C34}) missing from current font.\n",
      "  fig.canvas.print_figure(bytes_io, **kw)\n",
      "/opt/homebrew/Caskroom/miniforge/base/lib/python3.9/site-packages/IPython/core/pylabtools.py:151: UserWarning: Glyph 27969 (\\N{CJK UNIFIED IDEOGRAPH-6D41}) missing from current font.\n",
      "  fig.canvas.print_figure(bytes_io, **kw)\n",
      "/opt/homebrew/Caskroom/miniforge/base/lib/python3.9/site-packages/IPython/core/pylabtools.py:151: UserWarning: Glyph 37327 (\\N{CJK UNIFIED IDEOGRAPH-91CF}) missing from current font.\n",
      "  fig.canvas.print_figure(bytes_io, **kw)\n",
      "/opt/homebrew/Caskroom/miniforge/base/lib/python3.9/site-packages/IPython/core/pylabtools.py:151: UserWarning: Glyph 20998 (\\N{CJK UNIFIED IDEOGRAPH-5206}) missing from current font.\n",
      "  fig.canvas.print_figure(bytes_io, **kw)\n",
      "/opt/homebrew/Caskroom/miniforge/base/lib/python3.9/site-packages/IPython/core/pylabtools.py:151: UserWarning: Glyph 24067 (\\N{CJK UNIFIED IDEOGRAPH-5E03}) missing from current font.\n",
      "  fig.canvas.print_figure(bytes_io, **kw)\n",
      "/opt/homebrew/Caskroom/miniforge/base/lib/python3.9/site-packages/IPython/core/pylabtools.py:151: UserWarning: Glyph 31665 (\\N{CJK UNIFIED IDEOGRAPH-7BB1}) missing from current font.\n",
      "  fig.canvas.print_figure(bytes_io, **kw)\n",
      "/opt/homebrew/Caskroom/miniforge/base/lib/python3.9/site-packages/IPython/core/pylabtools.py:151: UserWarning: Glyph 32447 (\\N{CJK UNIFIED IDEOGRAPH-7EBF}) missing from current font.\n",
      "  fig.canvas.print_figure(bytes_io, **kw)\n",
      "/opt/homebrew/Caskroom/miniforge/base/lib/python3.9/site-packages/IPython/core/pylabtools.py:151: UserWarning: Glyph 22270 (\\N{CJK UNIFIED IDEOGRAPH-56FE}) missing from current font.\n",
      "  fig.canvas.print_figure(bytes_io, **kw)\n"
     ]
    },
    {
     "data": {
      "text/plain": "<Figure size 360x576 with 1 Axes>",
      "image/png": "[encoded data removed]"
     },
     "metadata": {
      "needs_background": "light"
     },
     "output_type": "display_data"
    }
   ],
   "source": [
    "# 查看水流量分布\n",
    "water = data['水流量']\n",
    "# 绘制水流量分布箱型图\n",
    "fig = plt.figure(figsize = (5 ,8))\n",
    "plt.boxplot(water,\n",
    "            patch_artist=True,\n",
    "            labels = ['水流量'],  # 设置x轴标题\n",
    "            boxprops = {'facecolor':'lightblue'})  # 设置填充颜色\n",
    "plt.title('水流量分布箱线图')\n",
    "# 显示y坐标轴的底线\n",
    "plt.grid(axis='y')\n",
    "plt.show()"
   ],
   "metadata": {
    "collapsed": false,
    "pycharm": {
     "name": "#%%\n"
    }
   }
  },
  {
   "cell_type": "code",
   "execution_count": 9,
   "outputs": [
    {
     "name": "stdout",
     "output_type": "stream",
     "text": [
      "初始状态的数据形状为： (18840, 12)\n",
      "删除冗余属性后的数据形状为： (18840, 9)\n"
     ]
    }
   ],
   "source": [
    "print('初始状态的数据形状为：', data.shape)\n",
    "# 删除热水器编号、有无水流、节能模式属性\n",
    "data.drop(labels=[\"热水器编号\",\"有无水流\",\"节能模式\"],axis=1,inplace=True)\n",
    "print('删除冗余属性后的数据形状为：', data.shape)\n",
    "data.to_csv('../data/chapter10_water_heart.csv',index=False)"
   ],
   "metadata": {
    "collapsed": false,
    "pycharm": {
     "name": "#%%\n"
    }
   }
  },
  {
   "cell_type": "code",
   "execution_count": 10,
   "outputs": [
    {
     "name": "stdout",
     "output_type": "stream",
     "text": [
      "当阈值为4分钟的时候事件数目为： 172\n"
     ]
    }
   ],
   "source": [
    "# 划分用水事件\n",
    "threshold = pd.Timedelta('4 min')  # 阈值为4分钟\n",
    "data['发生时间'] = pd.to_datetime(data['发生时间'], format = '%Y%m%d%H%M%S')  # 转换时间格式\n",
    "data = data[data['水流量'] > 0]  # 只要流量大于0的记录\n",
    "sjKs = data['发生时间'].diff() > threshold  # 相邻时间向前差分，比较是否大于阈值\n",
    "sjKs.iloc[0] = True  # 令第一个时间为第一个用水事件的开始事件\n",
    "sjJs = sjKs.iloc[1:]  # 向后差分的结果\n",
    "sjJs = pd.concat([sjJs,pd.Series(True)])  # 令最后一个时间作为最后一个用水事件的结束时间\n",
    "# 创建数据框，并定义用水事件序列\n",
    "sj = pd.DataFrame(np.arange(1,sum(sjKs)+1),columns = [\"事件序号\"])\n",
    "sj[\"事件起始编号\"] = data.index[sjKs == 1]+1  # 定义用水事件的起始编号\n",
    "sj[\"事件终止编号\"] = data.index[sjJs == 1]+1  # 定义用水事件的终止编号\n",
    "print('当阈值为4分钟的时候事件数目为：',sj.shape[0])\n",
    "sj.to_csv('../data/chapter10_sj.csv',index = False)"
   ],
   "metadata": {
    "collapsed": false,
    "pycharm": {
     "name": "#%%\n"
    }
   }
  },
  {
   "cell_type": "code",
   "execution_count": 11,
   "outputs": [
    {
     "name": "stdout",
     "output_type": "stream",
     "text": [
      "计算出的单次用水时长的阈值为： 0 days 00:04:00\n"
     ]
    }
   ],
   "source": [
    "# 确定单次用水事件时长阈值\n",
    "n = 4  # 使用以后四个点的平均斜率\n",
    "threshold = pd.Timedelta(minutes=5)  # 专家阈值\n",
    "data['发生时间'] = pd.to_datetime(data['发生时间'], format='%Y%m%d%H%M%S')\n",
    "data = data[data['水流量'] > 0]  # 只要流量大于0的记录\n",
    "# 自定义函数：输入划分时间的时间阈值，得到划分的事件数\n",
    "def event_num(ts):\n",
    "    d = data['发生时间'].diff() > ts  # 相邻时间作差分，比较是否大于阈值\n",
    "    return d.sum() + 1  # 这样直接返回事件数\n",
    "dt = [pd.Timedelta(minutes=i) for i in np.arange(1, 9, 0.25)]\n",
    "h = pd.DataFrame(dt, columns=['阈值'])  # 转换数据框，定义阈值列\n",
    "h['事件数'] = h['阈值'].apply(event_num)  # 计算每个阈值对应的事件数\n",
    "h['斜率'] = h['事件数'].diff()/0.25  # 计算每两个相邻点对应的斜率\n",
    "h['斜率指标']= h['斜率'].abs().rolling(4).mean()  # 往前取n个斜率绝对值平均作为斜率指标\n",
    "ts = h['阈值'][h['斜率指标'].idxmin() - n]\n",
    "# 用idxmin返回最小值的Index，由于rolling_mean()计算的是前n个斜率的绝对值平均\n",
    "# 所以结果要进行平移（-n）\n",
    "if ts > threshold:\n",
    "    ts = pd.Timedelta(minutes=4)\n",
    "print('计算出的单次用水时长的阈值为：',ts)"
   ],
   "metadata": {
    "collapsed": false,
    "pycharm": {
     "name": "#%%\n"
    }
   }
  },
  {
   "cell_type": "code",
   "execution_count": 12,
   "outputs": [
    {
     "data": {
      "text/plain": "                   发生时间 开关机状态 加热中 保温中  实际温度 热水量  水流量 加热剩余时间 当前设置温度\n2   2014-10-19 07:01:56     关   关   关  30°C  0%    8    0分钟   50°C\n56  2014-10-19 07:38:16     关   关   关  30°C  0%    8    0分钟   50°C\n381 2014-10-19 09:46:38     关   关   关  29°C  0%   16    0分钟   50°C\n382 2014-10-19 09:46:40     关   关   关  29°C  0%   13    0分钟   50°C\n384 2014-10-19 09:47:15     关   关   关  29°C  0%   20    0分钟   50°C",
      "text/html": "<div>\n<style scoped>\n    .dataframe tbody tr th:only-of-type {\n        vertical-align: middle;\n    }\n\n    .dataframe tbody tr th {\n        vertical-align: top;\n    }\n\n    .dataframe thead th {\n        text-align: right;\n    }\n</style>\n<table border=\"1\" class=\"dataframe\">\n  <thead>\n    <tr style=\"text-align: right;\">\n      <th></th>\n      <th>发生时间</th>\n      <th>开关机状态</th>\n      <th>加热中</th>\n      <th>保温中</th>\n      <th>实际温度</th>\n      <th>热水量</th>\n      <th>水流量</th>\n      <th>加热剩余时间</th>\n      <th>当前设置温度</th>\n    </tr>\n  </thead>\n  <tbody>\n    <tr>\n      <th>2</th>\n      <td>2014-10-19 07:01:56</td>\n      <td>关</td>\n      <td>关</td>\n      <td>关</td>\n      <td>30°C</td>\n      <td>0%</td>\n      <td>8</td>\n      <td>0分钟</td>\n      <td>50°C</td>\n    </tr>\n    <tr>\n      <th>56</th>\n      <td>2014-10-19 07:38:16</td>\n      <td>关</td>\n      <td>关</td>\n      <td>关</td>\n      <td>30°C</td>\n      <td>0%</td>\n      <td>8</td>\n      <td>0分钟</td>\n      <td>50°C</td>\n    </tr>\n    <tr>\n      <th>381</th>\n      <td>2014-10-19 09:46:38</td>\n      <td>关</td>\n      <td>关</td>\n      <td>关</td>\n      <td>29°C</td>\n      <td>0%</td>\n      <td>16</td>\n      <td>0分钟</td>\n      <td>50°C</td>\n    </tr>\n    <tr>\n      <th>382</th>\n      <td>2014-10-19 09:46:40</td>\n      <td>关</td>\n      <td>关</td>\n      <td>关</td>\n      <td>29°C</td>\n      <td>0%</td>\n      <td>13</td>\n      <td>0分钟</td>\n      <td>50°C</td>\n    </tr>\n    <tr>\n      <th>384</th>\n      <td>2014-10-19 09:47:15</td>\n      <td>关</td>\n      <td>关</td>\n      <td>关</td>\n      <td>29°C</td>\n      <td>0%</td>\n      <td>20</td>\n      <td>0分钟</td>\n      <td>50°C</td>\n    </tr>\n  </tbody>\n</table>\n</div>"
     },
     "execution_count": 12,
     "metadata": {},
     "output_type": "execute_result"
    }
   ],
   "source": [
    "data.head()"
   ],
   "metadata": {
    "collapsed": false,
    "pycharm": {
     "name": "#%%\n"
    }
   }
  },
  {
   "cell_type": "code",
   "execution_count": 17,
   "outputs": [
    {
     "data": {
      "text/plain": "             发生时间 开关机状态 加热中 保温中  实际温度 热水量  水流量 加热剩余时间 当前设置温度\n0  20141019063917     关   关   关  30°C  0%    0    0分钟   50°C\n1  20141019070154     关   关   关  30°C  0%    0    0分钟   50°C\n2  20141019070156     关   关   关  30°C  0%    8    0分钟   50°C\n3  20141019071230     关   关   关  30°C  0%    0    0分钟   50°C\n4  20141019071236     关   关   关  29°C  0%    0    0分钟   50°C",
      "text/html": "<div>\n<style scoped>\n    .dataframe tbody tr th:only-of-type {\n        vertical-align: middle;\n    }\n\n    .dataframe tbody tr th {\n        vertical-align: top;\n    }\n\n    .dataframe thead th {\n        text-align: right;\n    }\n</style>\n<table border=\"1\" class=\"dataframe\">\n  <thead>\n    <tr style=\"text-align: right;\">\n      <th></th>\n      <th>发生时间</th>\n      <th>开关机状态</th>\n      <th>加热中</th>\n      <th>保温中</th>\n      <th>实际温度</th>\n      <th>热水量</th>\n      <th>水流量</th>\n      <th>加热剩余时间</th>\n      <th>当前设置温度</th>\n    </tr>\n  </thead>\n  <tbody>\n    <tr>\n      <th>0</th>\n      <td>20141019063917</td>\n      <td>关</td>\n      <td>关</td>\n      <td>关</td>\n      <td>30°C</td>\n      <td>0%</td>\n      <td>0</td>\n      <td>0分钟</td>\n      <td>50°C</td>\n    </tr>\n    <tr>\n      <th>1</th>\n      <td>20141019070154</td>\n      <td>关</td>\n      <td>关</td>\n      <td>关</td>\n      <td>30°C</td>\n      <td>0%</td>\n      <td>0</td>\n      <td>0分钟</td>\n      <td>50°C</td>\n    </tr>\n    <tr>\n      <th>2</th>\n      <td>20141019070156</td>\n      <td>关</td>\n      <td>关</td>\n      <td>关</td>\n      <td>30°C</td>\n      <td>0%</td>\n      <td>8</td>\n      <td>0分钟</td>\n      <td>50°C</td>\n    </tr>\n    <tr>\n      <th>3</th>\n      <td>20141019071230</td>\n      <td>关</td>\n      <td>关</td>\n      <td>关</td>\n      <td>30°C</td>\n      <td>0%</td>\n      <td>0</td>\n      <td>0分钟</td>\n      <td>50°C</td>\n    </tr>\n    <tr>\n      <th>4</th>\n      <td>20141019071236</td>\n      <td>关</td>\n      <td>关</td>\n      <td>关</td>\n      <td>29°C</td>\n      <td>0%</td>\n      <td>0</td>\n      <td>0分钟</td>\n      <td>50°C</td>\n    </tr>\n  </tbody>\n</table>\n</div>"
     },
     "execution_count": 17,
     "metadata": {},
     "output_type": "execute_result"
    }
   ],
   "source": [
    "data = pd.read_excel('../data/chapter10_water_hearter.xlsx')  # 读取热水器使用数据记录\n",
    "data.head()"
   ],
   "metadata": {
    "collapsed": false,
    "pycharm": {
     "name": "#%%\n"
    }
   }
  },
  {
   "cell_type": "code",
   "execution_count": 18,
   "outputs": [
    {
     "name": "stdout",
     "output_type": "stream",
     "text": [
      "用水事件用水时长与频率特征构造完成后数据的特征为：\n",
      " Index(['事件序号', '事件起始编号', '事件终止编号', '事件开始时间', '事件结束时间', '洗浴时间点', '总用水时长',\n",
      "       '总停顿时长', '停顿次数', '平均停顿时长', '用水时长', '用水/总时长'],\n",
      "      dtype='object')\n",
      "用水事件用水时长与频率特征构造完成后数据的前5行5列特征为：\n",
      "    事件序号  事件起始编号  事件终止编号                  事件开始时间                  事件结束时间\n",
      "0     1       3       3 2014-10-19 07:01:55.500 2014-10-19 07:01:56.500\n",
      "1     2      57      57 2014-10-19 07:38:15.500 2014-10-19 07:38:16.500\n",
      "2     3     382     385 2014-10-19 09:46:37.500 2014-10-19 09:47:15.500\n",
      "3     4     405     405 2014-10-19 11:50:16.500 2014-10-19 11:50:17.500\n",
      "4     5     408     408 2014-10-19 13:56:20.500 2014-10-19 13:56:21.500\n"
     ]
    }
   ],
   "source": [
    "# 转换时间格式\n",
    "data[\"发生时间\"] = pd.to_datetime(data[\"发生时间\"],format=\"%Y%m%d%H%M%S\")\n",
    "\n",
    "# 构造特征：总用水时长\n",
    "timeDel = pd.Timedelta(\"0.5 sec\")\n",
    "sj[\"事件开始时间\"] = data.iloc[sj[\"事件起始编号\"]-1,0].values- timeDel\n",
    "sj[\"事件结束时间\"] = data.iloc[sj[\"事件终止编号\"]-1,0].values + timeDel\n",
    "sj['洗浴时间点'] = [i.hour for i in sj[\"事件开始时间\"]]\n",
    "sj[\"总用水时长\"] = np.int64(sj[\"事件结束时间\"] - sj[\"事件开始时间\"])/1000000000 + 1\n",
    "\n",
    "# 构造用水停顿事件\n",
    "# 构造特征“停顿开始时间”、“停顿结束时间”\n",
    "# 停顿开始时间指从有水流到无水流，停顿结束时间指从无水流到有水流\n",
    "for i in range(len(data)-1):\n",
    "    if (data.loc[i,\"水流量\"] != 0) & (data.loc[i + 1,\"水流量\"] == 0) :\n",
    "        data.loc[i + 1,\"停顿开始时间\"] = data.loc[i +1, \"发生时间\"] - timeDel\n",
    "    if (data.loc[i,\"水流量\"] == 0) & (data.loc[i + 1,\"水流量\"] != 0) :\n",
    "        data.loc[i,\"停顿结束时间\"] = data.loc[i , \"发生时间\"] + timeDel\n",
    "\n",
    "# 提取停顿开始时间与结束时间所对应行号，放在数据框Stop中\n",
    "indStopStart = data.index[data[\"停顿开始时间\"].notnull()]+1\n",
    "indStopEnd = data.index[data[\"停顿结束时间\"].notnull()]+1\n",
    "Stop = pd.DataFrame(data={\"停顿开始编号\":indStopStart[:-1],\n",
    "                            \"停顿结束编号\":indStopEnd[1:]})\n",
    "# 计算停顿时长，并放在数据框stop中，停顿时长=停顿结束时间-停顿结束时间\n",
    "Stop[\"停顿时长\"] = np.int64(data.loc[indStopEnd[1:]-1,\"停顿结束时间\"].values-\n",
    "                     data.loc[indStopStart[:-1]-1,\"停顿开始时间\"].values)/1000000000\n",
    "# 将每次停顿与事件匹配,停顿的开始时间要大于事件的开始时间，\n",
    "# 且停顿的结束时间要小于事件的结束时间\n",
    "for i in range(len(sj)):\n",
    "    Stop.loc[(Stop[\"停顿开始编号\"] > sj.loc[i,\"事件起始编号\"]) &\n",
    "           (Stop[\"停顿结束编号\"] < sj.loc[i,\"事件终止编号\"]),\"停顿归属事件\"]=i+1\n",
    "\n",
    "# 删除停顿次数为0的事件\n",
    "Stop = Stop[Stop[\"停顿归属事件\"].notnull()]\n",
    "\n",
    "# 构造特征 用水事件停顿总时长、停顿次数、停顿平均时长、\n",
    "# 用水时长，用水/总时长\n",
    "stopAgg =  Stop.groupby(\"停顿归属事件\").agg({\"停顿时长\":sum,\"停顿开始编号\":len})\n",
    "sj.loc[stopAgg.index - 1,\"总停顿时长\"] = stopAgg.loc[:,\"停顿时长\"].values\n",
    "sj.loc[stopAgg.index-1,\"停顿次数\"] = stopAgg.loc[:,\"停顿开始编号\"].values\n",
    "sj.fillna(0,inplace=True)  # 对缺失值用0插补\n",
    "stopNo0 = sj[\"停顿次数\"] != 0  # 判断用水事件是否存在停顿\n",
    "sj.loc[stopNo0,\"平均停顿时长\"] = sj.loc[stopNo0,\"总停顿时长\"]/sj.loc[stopNo0,\"停顿次数\"]\n",
    "sj.fillna(0,inplace=True)  # 对缺失值用0插补\n",
    "sj[\"用水时长\"] = sj[\"总用水时长\"] - sj[\"总停顿时长\"]  # 定义特征用水时长\n",
    "sj[\"用水/总时长\"] = sj[\"用水时长\"] / sj[\"总用水时长\"]  # 定义特征 用水/总时长\n",
    "print('用水事件用水时长与频率特征构造完成后数据的特征为：\\n',sj.columns)\n",
    "print('用水事件用水时长与频率特征构造完成后数据的前5行5列特征为：\\n',\n",
    "      sj.iloc[:5,:5])"
   ],
   "metadata": {
    "collapsed": false,
    "pycharm": {
     "name": "#%%\n"
    }
   }
  },
  {
   "cell_type": "code",
   "execution_count": 19,
   "outputs": [
    {
     "name": "stdout",
     "output_type": "stream",
     "text": [
      "用水量和波动特征构造完成后数据的特征为：\n",
      " Index(['事件序号', '事件起始编号', '事件终止编号', '事件开始时间', '事件结束时间', '洗浴时间点', '总用水时长',\n",
      "       '总停顿时长', '停顿次数', '平均停顿时长', '用水时长', '用水/总时长', '总用水量', '平均水流量', '水流量波动',\n",
      "       '停顿时长波动'],\n",
      "      dtype='object')\n",
      "用水量和波动特征构造完成后数据的前5行5列特征为：\n",
      "    事件序号  事件起始编号  事件终止编号                  事件开始时间                  事件结束时间\n",
      "0     1       3       3 2014-10-19 07:01:55.500 2014-10-19 07:01:56.500\n",
      "1     2      57      57 2014-10-19 07:38:15.500 2014-10-19 07:38:16.500\n",
      "2     3     382     385 2014-10-19 09:46:37.500 2014-10-19 09:47:15.500\n",
      "3     4     405     405 2014-10-19 11:50:16.500 2014-10-19 11:50:17.500\n",
      "4     5     408     408 2014-10-19 13:56:20.500 2014-10-19 13:56:21.500\n"
     ]
    }
   ],
   "source": [
    "data[\"水流量\"] = data[\"水流量\"] / 60 # 原单位L/min，现转换为L/sec\n",
    "sj[\"总用水量\"] = 0 # 给总用水量赋一个初始值0\n",
    "for i in range(len(sj)):\n",
    "    Start = sj.loc[i,\"事件起始编号\"]-1\n",
    "    End = sj.loc[i,\"事件终止编号\"]-1\n",
    "    if Start != End:\n",
    "        for j in range(Start,End):\n",
    "            if data.loc[j,\"水流量\"] != 0:\n",
    "                sj.loc[i,\"总用水量\"] = (data.loc[j + 1,\"发生时间\"] -\n",
    "                                    data.loc[j,\"发生时间\"]).seconds* \\\n",
    "                                    data.loc[j,\"水流量\"] + sj.loc[i,\"总用水量\"]\n",
    "        sj.loc[i,\"总用水量\"] = sj.loc[i,\"总用水量\"] + data.loc[End,\"水流量\"] * 2\n",
    "    else:\n",
    "        sj.loc[i,\"总用水量\"] = data.loc[Start,\"水流量\"] * 2\n",
    "\n",
    "sj[\"平均水流量\"] = sj[\"总用水量\"] / sj[\"用水时长\"] # 定义特征 平均水流量\n",
    "# 构造特征：水流量波动\n",
    "# 水流量波动=∑(((单次水流的值-平均水流量)^2)*持续时间)/用水时长\n",
    "sj[\"水流量波动\"] = 0 # 给水流量波动赋一个初始值0\n",
    "for i in range(len(sj)):\n",
    "    Start = sj.loc[i,\"事件起始编号\"] - 1\n",
    "    End = sj.loc[i,\"事件终止编号\"] - 1\n",
    "    for j in range(Start,End + 1):\n",
    "        if data.loc[j,\"水流量\"] != 0:\n",
    "            slbd = (data.loc[j,\"水流量\"] - sj.loc[i,\"平均水流量\"])**2\n",
    "            slsj = (data.loc[j + 1,\"发生时间\"] - data.loc[j,\"发生时间\"]).seconds\n",
    "            sj.loc[i,\"水流量波动\"] = slbd * slsj + sj.loc[i,\"水流量波动\"]\n",
    "    sj.loc[i,\"水流量波动\"] = sj.loc[i,\"水流量波动\"] / sj.loc[i,\"用水时长\"]\n",
    "\n",
    "# 构造特征：停顿时长波动\n",
    "# 停顿时长波动=∑(((单次停顿时长-平均停顿时长)^2)*持续时间)/总停顿时长\n",
    "sj[\"停顿时长波动\"] = 0 # 给停顿时长波动赋一个初始值0\n",
    "for i in range(len(sj)):\n",
    "    if sj.loc[i,\"停顿次数\"] > 1: # 当停顿次数为0或1时，停顿时长波动值为0，故排除\n",
    "        for j in Stop.loc[Stop[\"停顿归属事件\"] == (i+1),\"停顿时长\"].values:\n",
    "            sj.loc[i,\"停顿时长波动\"] = ((j - sj.loc[i,\"平均停顿时长\"])**2) * j + \\\n",
    "                                     sj.loc[i,\"停顿时长波动\"]\n",
    "        sj.loc[i,\"停顿时长波动\"] = sj.loc[i,\"停顿时长波动\"] / sj.loc[i,\"总停顿时长\"]\n",
    "\n",
    "print('用水量和波动特征构造完成后数据的特征为：\\n',sj.columns)\n",
    "print('用水量和波动特征构造完成后数据的前5行5列特征为：\\n',sj.iloc[:5,:5])"
   ],
   "metadata": {
    "collapsed": false,
    "pycharm": {
     "name": "#%%\n"
    }
   }
  },
  {
   "cell_type": "code",
   "execution_count": 21,
   "outputs": [
    {
     "name": "stdout",
     "output_type": "stream",
     "text": [
      "筛选出候选洗浴事件前的数据形状为： (172, 16)\n",
      "筛选出候选洗浴事件后的数据形状为： (75, 16)\n"
     ]
    }
   ],
   "source": [
    "sj_bool = (sj['用水时长'] >100) & (sj['总用水时长'] > 120) & (sj['总用水量'] > 5)\n",
    "sj_final = sj.loc[sj_bool,:]\n",
    "sj_final.to_excel('../data/chapter10_sj_final.xlsx',index=False)\n",
    "print('筛选出候选洗浴事件前的数据形状为：',sj.shape)\n",
    "print('筛选出候选洗浴事件后的数据形状为：',sj_final.shape)"
   ],
   "metadata": {
    "collapsed": false,
    "pycharm": {
     "name": "#%%\n"
    }
   }
  },
  {
   "cell_type": "code",
   "execution_count": 25,
   "outputs": [
    {
     "name": "stdout",
     "output_type": "stream",
     "text": [
      "构建的模型为：\n",
      " MLPClassifier(hidden_layer_sizes=(17, 10), random_state=50, solver='lbfgs')\n"
     ]
    },
    {
     "name": "stderr",
     "output_type": "stream",
     "text": [
      "/opt/homebrew/Caskroom/miniforge/base/lib/python3.9/site-packages/sklearn/base.py:493: FutureWarning: The feature names should match those that were passed during fit. Starting version 1.2, an error will be raised.\n",
      "Feature names must be in the same order as they were in fit.\n",
      "\n",
      "  warnings.warn(message, FutureWarning)\n"
     ]
    }
   ],
   "source": [
    "# 读取数据\n",
    "Xtrain = pd.read_excel('../data/chapter10_sj_final.xlsx')\n",
    "ytrain = pd.read_excel('../data/chapter10_water_heater_log.xlsx')\n",
    "test = pd.read_excel('../data/chapter10_test_data.xlsx')\n",
    "# 训练集测试集区分。\n",
    "x_train, x_test, y_train, y_test = Xtrain.iloc[:,5:],test.iloc[:,4:-1],\\\n",
    "                                   ytrain.iloc[:,-1],test.iloc[:,-1]\n",
    "# 标准化\n",
    "stdScaler = StandardScaler().fit(x_train)\n",
    "x_stdtrain = stdScaler.transform(x_train)\n",
    "x_stdtest = stdScaler.transform(x_test)\n",
    "# 建立模型\n",
    "bpnn = MLPClassifier(hidden_layer_sizes = (17,10), max_iter = 200, solver = 'lbfgs',random_state=50)\n",
    "bpnn.fit(x_stdtrain, y_train)\n",
    "# 保存模型\n",
    "joblib.dump(bpnn,'../data/chapter10_water_heater_nnet.m')\n",
    "print('构建的模型为：\\n',bpnn)"
   ],
   "metadata": {
    "collapsed": false,
    "pycharm": {
     "name": "#%%\n"
    }
   }
  },
  {
   "cell_type": "code",
   "execution_count": 27,
   "outputs": [
    {
     "name": "stdout",
     "output_type": "stream",
     "text": [
      "神经网络预测结果评价报告：\n",
      "               precision    recall  f1-score   support\n",
      "\n",
      "           0       0.47      0.75      0.58        12\n",
      "           1       0.90      0.73      0.81        37\n",
      "\n",
      "    accuracy                           0.73        49\n",
      "   macro avg       0.69      0.74      0.69        49\n",
      "weighted avg       0.80      0.73      0.75        49\n",
      "\n"
     ]
    },
    {
     "name": "stderr",
     "output_type": "stream",
     "text": [
      "/opt/homebrew/Caskroom/miniforge/base/lib/python3.9/site-packages/IPython/core/pylabtools.py:151: UserWarning: Glyph 29992 (\\N{CJK UNIFIED IDEOGRAPH-7528}) missing from current font.\n",
      "  fig.canvas.print_figure(bytes_io, **kw)\n",
      "/opt/homebrew/Caskroom/miniforge/base/lib/python3.9/site-packages/IPython/core/pylabtools.py:151: UserWarning: Glyph 25143 (\\N{CJK UNIFIED IDEOGRAPH-6237}) missing from current font.\n",
      "  fig.canvas.print_figure(bytes_io, **kw)\n",
      "/opt/homebrew/Caskroom/miniforge/base/lib/python3.9/site-packages/IPython/core/pylabtools.py:151: UserWarning: Glyph 27700 (\\N{CJK UNIFIED IDEOGRAPH-6C34}) missing from current font.\n",
      "  fig.canvas.print_figure(bytes_io, **kw)\n",
      "/opt/homebrew/Caskroom/miniforge/base/lib/python3.9/site-packages/IPython/core/pylabtools.py:151: UserWarning: Glyph 20107 (\\N{CJK UNIFIED IDEOGRAPH-4E8B}) missing from current font.\n",
      "  fig.canvas.print_figure(bytes_io, **kw)\n",
      "/opt/homebrew/Caskroom/miniforge/base/lib/python3.9/site-packages/IPython/core/pylabtools.py:151: UserWarning: Glyph 20214 (\\N{CJK UNIFIED IDEOGRAPH-4EF6}) missing from current font.\n",
      "  fig.canvas.print_figure(bytes_io, **kw)\n",
      "/opt/homebrew/Caskroom/miniforge/base/lib/python3.9/site-packages/IPython/core/pylabtools.py:151: UserWarning: Glyph 35782 (\\N{CJK UNIFIED IDEOGRAPH-8BC6}) missing from current font.\n",
      "  fig.canvas.print_figure(bytes_io, **kw)\n",
      "/opt/homebrew/Caskroom/miniforge/base/lib/python3.9/site-packages/IPython/core/pylabtools.py:151: UserWarning: Glyph 21035 (\\N{CJK UNIFIED IDEOGRAPH-522B}) missing from current font.\n",
      "  fig.canvas.print_figure(bytes_io, **kw)\n",
      "/opt/homebrew/Caskroom/miniforge/base/lib/python3.9/site-packages/IPython/core/pylabtools.py:151: UserWarning: Glyph 26354 (\\N{CJK UNIFIED IDEOGRAPH-66F2}) missing from current font.\n",
      "  fig.canvas.print_figure(bytes_io, **kw)\n",
      "/opt/homebrew/Caskroom/miniforge/base/lib/python3.9/site-packages/IPython/core/pylabtools.py:151: UserWarning: Glyph 32447 (\\N{CJK UNIFIED IDEOGRAPH-7EBF}) missing from current font.\n",
      "  fig.canvas.print_figure(bytes_io, **kw)\n"
     ]
    },
    {
     "data": {
      "text/plain": "<Figure size 432x288 with 1 Axes>",
      "image/png": "[encoded data removed]"
     },
     "metadata": {
      "needs_background": "light"
     },
     "output_type": "display_data"
    }
   ],
   "source": [
    "y_pred = bpnn.predict(x_stdtest)  # 返回预测结果\n",
    "print('神经网络预测结果评价报告：\\n',classification_report(y_test,y_pred))\n",
    "# 绘制roc曲线图\n",
    "plt.rcParams['font.sans-serif'] = 'SimHei'  # 显示中文\n",
    "plt.rcParams['axes.unicode_minus'] = False  # 显示负号\n",
    "fpr, tpr, thresholds = roc_curve(y_pred,y_test)  # 求出TPR和FPR\n",
    "plt.figure(figsize=(6,4))  # 创建画布\n",
    "plt.plot(fpr,tpr)  # 绘制曲线\n",
    "plt.title('用户用水事件识别ROC曲线')  # 标题\n",
    "plt.xlabel('FPR')  # x轴标签\n",
    "plt.ylabel('TPR')  # y轴标签\n",
    "plt.show()  # 显示图形"
   ],
   "metadata": {
    "collapsed": false,
    "pycharm": {
     "name": "#%%\n"
    }
   }
  }
 ],
 "metadata": {
  "kernelspec": {
   "display_name": "Python 3",
   "language": "python",
   "name": "python3"
  },
  "language_info": {
   "codemirror_mode": {
    "name": "ipython",
    "version": 2
   },
   "file_extension": ".py",
   "mimetype": "text/x-python",
   "name": "python",
   "nbconvert_exporter": "python",
   "pygments_lexer": "ipython2",
   "version": "2.7.6"
  }
 },
 "nbformat": 4,
 "nbformat_minor": 0
}